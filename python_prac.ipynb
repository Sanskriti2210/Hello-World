{
  "nbformat": 4,
  "nbformat_minor": 0,
  "metadata": {
    "colab": {
      "provenance": [],
      "authorship_tag": "ABX9TyM77ZJc+vvoL8vnF+AtSkzy",
      "include_colab_link": true
    },
    "kernelspec": {
      "name": "python3",
      "display_name": "Python 3"
    },
    "language_info": {
      "name": "python"
    }
  },
  "cells": [
    {
      "cell_type": "markdown",
      "metadata": {
        "id": "view-in-github",
        "colab_type": "text"
      },
      "source": [
        "<a href=\"https://colab.research.google.com/github/Sanskriti2210/Python-programs/blob/main/python_prac.ipynb\" target=\"_parent\"><img src=\"https://colab.research.google.com/assets/colab-badge.svg\" alt=\"Open In Colab\"/></a>"
      ]
    },
    {
      "cell_type": "markdown",
      "source": [
        "Write a program to read your name, contact number, email, and\n",
        "birthdate and print those details on the screen."
      ],
      "metadata": {
        "id": "oSr9h_sQLaxc"
      }
    },
    {
      "cell_type": "code",
      "source": [
        "name = input(\"Enter your name: \")\n",
        "contact_number = input(\"Enter your contact number: \")\n",
        "email = input(\"Enter your email: \")\n",
        "birthdate = input(\"Enter your birthdate (YYYY-MM-DD): \")\n",
        "\n",
        "print(\"Name:\", name)\n",
        "print(\"Contact Number:\", contact_number)\n",
        "print(\"Email:\", email)\n",
        "print(\"Birthdate:\", birthdate)"
      ],
      "metadata": {
        "colab": {
          "base_uri": "https://localhost:8080/"
        },
        "id": "iDPP9f0yLpp7",
        "outputId": "bf18d686-6b1a-48f7-8559-18cb1407d1c7"
      },
      "execution_count": null,
      "outputs": [
        {
          "output_type": "stream",
          "name": "stdout",
          "text": [
            "Enter your name: Prince\n",
            "Enter your contact number: 9265926990\n",
            "Enter your email: prince6124@gmail.com\n",
            "Enter your birthdate (YYYY-MM-DD): 06-12-2005\n",
            "Name: Prince\n",
            "Contact Number: 9265926990\n",
            "Email: prince6124@gmail.com\n",
            "Birthdate: 06-12-2005\n"
          ]
        }
      ]
    },
    {
      "cell_type": "markdown",
      "source": [
        "Write a program to convert celsius degree to fahrenheit\n"
      ],
      "metadata": {
        "id": "9I4jYoL34KkY"
      }
    },
    {
      "cell_type": "code",
      "source": [
        "#tempconversion.py\n",
        "temp=input(\"Enter the temperature in degree celsius\")\n",
        "C=float(temp)\n",
        "F=(9/5)*C+32\n",
        "print(\"Temperature in fahrenheit is \",F)"
      ],
      "metadata": {
        "colab": {
          "base_uri": "https://localhost:8080/"
        },
        "id": "76AzIy3g4VLp",
        "outputId": "46c4460c-cb32-4ae7-8b83-6fb81511be5e"
      },
      "execution_count": null,
      "outputs": [
        {
          "output_type": "stream",
          "name": "stdout",
          "text": [
            "Enter the temperature in degree celsius45\n",
            "Temperature in fahrenheit is  113.0\n"
          ]
        }
      ]
    },
    {
      "cell_type": "markdown",
      "source": [
        "Write a program to convert int into float\n",
        "x=25"
      ],
      "metadata": {
        "id": "Rp5N2ewI7PMF"
      }
    },
    {
      "cell_type": "code",
      "source": [
        "x=25\n",
        "x=float(x)\n",
        "print(x)"
      ],
      "metadata": {
        "colab": {
          "base_uri": "https://localhost:8080/"
        },
        "id": "Ssgo4O-96qvc",
        "outputId": "3bb6b629-055e-45fe-8855-4def5f327cc1"
      },
      "execution_count": null,
      "outputs": [
        {
          "output_type": "stream",
          "name": "stdout",
          "text": [
            "25.0\n"
          ]
        }
      ]
    },
    {
      "cell_type": "markdown",
      "source": [
        "Write a program to compute the slope of a line between two points (x1,y1 and x2,y2) slope=y2-y1/x2-x1"
      ],
      "metadata": {
        "id": "J4FGP5rU9-F8"
      }
    },
    {
      "cell_type": "code",
      "source": [
        "x1=9\n",
        "y1=7\n",
        "x2=6\n",
        "y2=5\n",
        "slope=(y2-y1)/(x2-x1)\n",
        "print(\"The slope of the line is :\",slope)"
      ],
      "metadata": {
        "colab": {
          "base_uri": "https://localhost:8080/"
        },
        "id": "IklaRVFB-nfH",
        "outputId": "e49577cf-567e-4140-9c58-2cbf3f2ae48d"
      },
      "execution_count": null,
      "outputs": [
        {
          "output_type": "stream",
          "name": "stdout",
          "text": [
            "The slope of the line is : 0.6666666666666666\n"
          ]
        }
      ]
    },
    {
      "cell_type": "markdown",
      "source": [
        "Make a grading system using if-else loop\n",
        "x=(25,50,75,85,90,99)"
      ],
      "metadata": {
        "id": "nqdr-b6GBttd"
      }
    },
    {
      "cell_type": "code",
      "source": [
        "marks=int(input(\"Enter the marks:\"))\n",
        "if(marks>=90):\n",
        "  print(\"Grade A\")\n",
        "elif(marks>=80):\n",
        "    print(\"Grade B\")\n",
        "elif(marks>=70):\n",
        "  pass # Add the code to be executed here\n",
        "  print(\"Grade C\")\n",
        "elif(marks>=60):\n",
        "    print(\"Grade D\")\n",
        "else:\n",
        "    print(\"Grade E\")"
      ],
      "metadata": {
        "colab": {
          "base_uri": "https://localhost:8080/"
        },
        "id": "tAVLYNxaC7Pp",
        "outputId": "de8ddfe3-58cd-4ace-819e-dbba6e7243b0"
      },
      "execution_count": null,
      "outputs": [
        {
          "output_type": "stream",
          "name": "stdout",
          "text": [
            "Enter the marks:89\n",
            "Grade B\n"
          ]
        }
      ]
    },
    {
      "cell_type": "markdown",
      "source": [
        "Write a program to find simple interest"
      ],
      "metadata": {
        "id": "W-v1Ob0Pn0JY"
      }
    },
    {
      "cell_type": "code",
      "source": [
        "p=float(input(\"Enter the principal amount:\"))\n",
        "r=float(input(\"Enter the rate of interest:\"))\n",
        "t=float(input(\"Enter the taken time:\"))\n",
        "si=(p*r*t)/100\n",
        "print(\"The simple interest is:\",si)"
      ],
      "metadata": {
        "colab": {
          "base_uri": "https://localhost:8080/"
        },
        "id": "YlWolPhhn786",
        "outputId": "3022188b-a89d-49ee-ecce-6567f2dc6b46"
      },
      "execution_count": null,
      "outputs": [
        {
          "output_type": "stream",
          "name": "stdout",
          "text": [
            "Enter the principal amount:800000\n",
            "Enter the rate of interest:5\n",
            "Enter the taken time:7\n",
            "The simple interest is: 280000.0\n"
          ]
        }
      ]
    },
    {
      "cell_type": "markdown",
      "source": [
        "Write a program to find compound interest"
      ],
      "metadata": {
        "id": "qLXOGsnkpVhZ"
      }
    },
    {
      "cell_type": "code",
      "source": [
        "p=float(input(\"Enter the principal amount:\"))\n",
        "r=float(input(\"Enter the rate of interest:\"))\n",
        "t=float(input(\"Enter the taken time:\"))\n",
        "ci=p*(1+r/100)**t\n",
        "print(\"The compound interest is:\",ci)"
      ],
      "metadata": {
        "colab": {
          "base_uri": "https://localhost:8080/"
        },
        "id": "CO85PpDQpZiZ",
        "outputId": "7b3acde6-0edd-4c89-e8bc-2867f29bd648"
      },
      "execution_count": null,
      "outputs": [
        {
          "output_type": "stream",
          "name": "stdout",
          "text": [
            "Enter the principal amount:78000\n",
            "Enter the rate of interest:5\n",
            "Enter the taken time:6\n",
            "The compound interest is: 104527.45996875003\n"
          ]
        }
      ]
    },
    {
      "cell_type": "markdown",
      "source": [
        "Write a program to get change values in Quarter, Dime,\n",
        "Nickels and Pennies, and calculate the value of change in\n",
        "Dollars."
      ],
      "metadata": {
        "id": "hAjJMRCmrFy-"
      }
    },
    {
      "cell_type": "code",
      "source": [
        "print(\"Change calculator:\")\n",
        "print(\"Enter the number of coins you have:\")\n",
        "quarters=float(input(\"Quarters:\"))\n",
        "dimes=float(input(\"Dimes:\"))\n",
        "nickels=float(input(\"Nickels:\"))\n",
        "pennies=float(input(\"Pennies:\"))\n",
        "\n",
        "# Calculate the total value of the change\n",
        "total = quarters * 0.25 + dimes * 0.10 + nickels * 0.05 + pennies * 0.01\n",
        "\n",
        "print(\"The total value of your change is ${}\".format(total))"
      ],
      "metadata": {
        "colab": {
          "base_uri": "https://localhost:8080/"
        },
        "id": "mop5YRhisrzN",
        "outputId": "dd234fab-34a2-4ec2-e929-cda7ce053e2d"
      },
      "execution_count": null,
      "outputs": [
        {
          "output_type": "stream",
          "name": "stdout",
          "text": [
            "Change calculator:\n",
            "Enter the number of coins you have:\n",
            "Quarters:0.25\n",
            "Dimes:0.10\n",
            "Nickels:0.05\n",
            "Pennies:0.01\n",
            "The total value of your change is $0.07510000000000001\n"
          ]
        }
      ]
    },
    {
      "cell_type": "markdown",
      "source": [
        "Write a program to find a maximum of given three numbers\n",
        "(Use ternary operator)."
      ],
      "metadata": {
        "id": "Hz9FC-PMtJJA"
      }
    },
    {
      "cell_type": "code",
      "source": [
        "a=input(\"Enter the first no.:\")\n",
        "b=input(\"Enter the second no.:\")\n",
        "c=input(\"Enter the third no.:\")\n",
        "\n",
        "if(a>b and a>c):\n",
        "  max=a\n",
        "elif(b>a and b>c):\n",
        "  max=b\n",
        "else:\n",
        "   max = c # Assign c to max if neither a nor b is the largest\n",
        "\n",
        "print(\"The largest number is:\", max)\n",
        "\n"
      ],
      "metadata": {
        "colab": {
          "base_uri": "https://localhost:8080/"
        },
        "id": "FtfvFldpt5Kp",
        "outputId": "62cad52c-db3c-472e-e6d6-20403d71884c"
      },
      "execution_count": null,
      "outputs": [
        {
          "output_type": "stream",
          "name": "stdout",
          "text": [
            "Enter the first no.:89\n",
            "Enter the second no.:\n",
            "Enter the third no.:56\n",
            "The largest number is: 89\n"
          ]
        }
      ]
    },
    {
      "cell_type": "markdown",
      "source": [
        "Write a program to calculate area of Sphere."
      ],
      "metadata": {
        "id": "5aEa3gkvusBu"
      }
    },
    {
      "cell_type": "code",
      "source": [
        "r=float(input(\"Enter the radius of the sphere:\"))\n",
        "area=4*3.14*r**2\n",
        "print(\"Area of the sphere is:\",area)"
      ],
      "metadata": {
        "colab": {
          "base_uri": "https://localhost:8080/"
        },
        "id": "ZU2hwSEwuwta",
        "outputId": "54ce5e3b-b16b-4f6e-8092-8be16a1908b0"
      },
      "execution_count": null,
      "outputs": [
        {
          "output_type": "stream",
          "name": "stdout",
          "text": [
            "Enter the radius of the sphere:7.2\n",
            "Area of the sphere is: 651.1104\n"
          ]
        }
      ]
    },
    {
      "cell_type": "markdown",
      "source": [
        "Write a program to calculate volume of Sphere."
      ],
      "metadata": {
        "id": "eLyw-I7pvJyt"
      }
    },
    {
      "cell_type": "code",
      "source": [
        "r=float(input(\"Enter the radius of the sphere:\"))\n",
        "volume=(4/3)*3.14*r*r*r\n",
        "print(\"Volume of the sphere is:\",volume)"
      ],
      "metadata": {
        "colab": {
          "base_uri": "https://localhost:8080/"
        },
        "id": "zQG16uEsvMBI",
        "outputId": "46a04010-d827-4b1b-da5e-b6d892353775"
      },
      "execution_count": null,
      "outputs": [
        {
          "output_type": "stream",
          "name": "stdout",
          "text": [
            "Enter the radius of the sphere:8.5\n",
            "Volume of the sphere is: 2571.1366666666668\n"
          ]
        }
      ]
    },
    {
      "cell_type": "markdown",
      "source": [
        "Write a program that calculates whether a given year is a leap year or not."
      ],
      "metadata": {
        "id": "8Aa1S69Z0ExT"
      }
    },
    {
      "cell_type": "code",
      "source": [
        "year=int(input(\"Enter the year:\"))\n",
        "\n",
        "if (year % 4 == 0 and (year % 100 != 0 or year % 400 == 0)):\n",
        "    print(year, \"is a leap year\")\n",
        "else:\n",
        "    print(year, \"is not a leap year\")\n"
      ],
      "metadata": {
        "colab": {
          "base_uri": "https://localhost:8080/"
        },
        "id": "zeI0fFwj0GA6",
        "outputId": "26b3bdfb-a901-4c15-b628-16ef69db82b5"
      },
      "execution_count": null,
      "outputs": [
        {
          "output_type": "stream",
          "name": "stdout",
          "text": [
            "Enter the year:2025\n",
            "2025 is not a leap year\n"
          ]
        }
      ]
    },
    {
      "cell_type": "markdown",
      "source": [
        "Write a program that computes the real roots of a given\n",
        "quadratic equation (Use math library).\n"
      ],
      "metadata": {
        "id": "apWkjIRWKGCI"
      }
    },
    {
      "cell_type": "code",
      "source": [
        "import math\n",
        "a=float(input(\"Enter the coefficient of x^2:\"))\n",
        "b=float(input(\"Enter the coefficient of x:\"))\n",
        "c=float(input(\"Enter the value of coefficient\"))\n",
        "d=b**2-4*a*c\n",
        "\n",
        "print(\"The roots of the quadratic equation are:\",d)"
      ],
      "metadata": {
        "colab": {
          "base_uri": "https://localhost:8080/"
        },
        "id": "sj9aVFIwKOw3",
        "outputId": "2f5cd731-3e04-4c85-b3da-5254fb272312"
      },
      "execution_count": null,
      "outputs": [
        {
          "output_type": "stream",
          "name": "stdout",
          "text": [
            "Enter the coefficient of x^2:1\n",
            "Enter the coefficient of x:2\n",
            "Enter the value of coefficient2\n",
            "The roots of the quadratic equation are: -4.0\n"
          ]
        }
      ]
    },
    {
      "cell_type": "markdown",
      "source": [
        "Write a program to determine the length of ladder required\n",
        "to reach a given height when leaned against the house. The\n",
        "height and the angle of the ladder are given as inputs (Use\n",
        "math Library)."
      ],
      "metadata": {
        "id": "crgvxEzHLt3o"
      }
    },
    {
      "cell_type": "code",
      "source": [
        "height=int(input(\"Enter the height of the ladder:\"))\n",
        "angle=int(input(\"Enter the angle of the ladder:\"))\n",
        "import math\n",
        "length=height/math.sin(math.radians(angle))\n",
        "print(\"The length of the ladder is:\",length)"
      ],
      "metadata": {
        "colab": {
          "base_uri": "https://localhost:8080/"
        },
        "id": "bKfv0hc0LvfY",
        "outputId": "992a6d4f-8e23-448c-ed6f-55004a9da867"
      },
      "execution_count": null,
      "outputs": [
        {
          "output_type": "stream",
          "name": "stdout",
          "text": [
            "Enter the height of the ladder:190\n",
            "Enter the angle of the ladder:60\n",
            "The length of the ladder is: 219.3931022920578\n"
          ]
        }
      ]
    },
    {
      "cell_type": "markdown",
      "source": [
        "\n",
        "\n",
        "\n"
      ],
      "metadata": {
        "id": "iiFrhcOkOi2i"
      }
    },
    {
      "cell_type": "markdown",
      "source": [
        "Write a program to input\n",
        "the number of hours worked and hourly rate and calculate\n",
        "the total wages for the week."
      ],
      "metadata": {
        "id": "r26VfYh_JNXL"
      }
    },
    {
      "cell_type": "code",
      "source": [
        "hours=int(input(\"Enter the number of working hours:\"))\n",
        "rate=int(input(\"Enter the hourly rate:\"))\n",
        "wages=hours*rate*5\n",
        "print(\"The total wages for the day = \",wages)"
      ],
      "metadata": {
        "colab": {
          "base_uri": "https://localhost:8080/"
        },
        "id": "YhjimwVCJRxw",
        "outputId": "370c1227-5b28-4ee2-f8ec-c0b5c03820e4"
      },
      "execution_count": null,
      "outputs": [
        {
          "output_type": "stream",
          "name": "stdout",
          "text": [
            "Enter the number of working hours:9\n",
            "Enter the hourly rate:700\n",
            "The total wages for the day =  31500\n"
          ]
        }
      ]
    },
    {
      "cell_type": "markdown",
      "source": [
        "Write a program to get a person's weight (in\n",
        "kgs) and height (in cms) and display a message whether the\n",
        "person is healthy, underweight or overweight."
      ],
      "metadata": {
        "id": "Oi-7C7jsLYir"
      }
    },
    {
      "cell_type": "code",
      "source": [
        "# Get input for weight and height\n",
        "weight = float(input(\"Enter your weight in kilograms: \"))\n",
        "height = float(input(\"Enter your height in centimeters: \"))\n",
        "\n",
        "# Calculate BMI\n",
        "bmi = weight / ((height / 100) ** 2)\n",
        "\n",
        "# Determine weight status\n",
        "if bmi < 18.5:\n",
        "    print(\"You are underweight.\")\n",
        "elif 18.5 <= bmi < 25:\n",
        "    print(\"You are healthy.\")\n",
        "else:\n",
        "    print(\"You are overweight.\")"
      ],
      "metadata": {
        "id": "Nlirt7_FUC38",
        "colab": {
          "base_uri": "https://localhost:8080/"
        },
        "outputId": "d3d1cede-f75c-4c29-c56f-8553dd19d0ec"
      },
      "execution_count": null,
      "outputs": [
        {
          "output_type": "stream",
          "name": "stdout",
          "text": [
            "Enter your weight in kilograms: 70\n",
            "Enter your height in centimeters: 154\n",
            "You are overweight.\n"
          ]
        }
      ]
    },
    {
      "cell_type": "markdown",
      "source": [
        "Write a program to read n numbers from users and calculate\n",
        "the average of those n numbers."
      ],
      "metadata": {
        "id": "VbsVIK4KMO4V"
      }
    },
    {
      "cell_type": "code",
      "source": [
        "    num=int(input(\"Enter the n numbers which you want to find average of:\"))\n",
        "sum=0\n",
        "for i in range(num):\n",
        "  sum=sum+int(input(\"Enter the number :\"))\n",
        "  num=float(num)\n",
        "  avg=sum/num\n",
        "  print(\"The average of the number is:\",avg)"
      ],
      "metadata": {
        "colab": {
          "base_uri": "https://localhost:8080/"
        },
        "id": "64WRezqPNuPw",
        "outputId": "9e5d5601-49fc-401f-9dd6-dea41e0e2ea5"
      },
      "execution_count": null,
      "outputs": [
        {
          "output_type": "stream",
          "name": "stdout",
          "text": [
            "Enter the n numbers which you want to find average of:3\n",
            "Enter the number :45\n",
            "The average of the number is: 15.0\n",
            "Enter the number :56\n",
            "The average of the number is: 33.666666666666664\n",
            "Enter the number :78\n",
            "The average of the number is: 59.666666666666664\n"
          ]
        }
      ]
    },
    {
      "cell_type": "markdown",
      "source": [
        "Write a program that prompts the user to enter 10 integers\n",
        "and displays all the combinations of picking two numbers\n",
        "from the 10."
      ],
      "metadata": {
        "id": "9AoFAOhGPS5n"
      }
    },
    {
      "cell_type": "code",
      "source": [
        "num=int(input(\"Enter the number of integers:\"))\n",
        "for i in range(num):\n",
        "  for j in range(num):\n",
        "    print(i,j)\n"
      ],
      "metadata": {
        "colab": {
          "base_uri": "https://localhost:8080/"
        },
        "id": "9F7HuL4vPf78",
        "outputId": "5c8f22a8-40c0-4b36-cb92-9118c8c1b8e2"
      },
      "execution_count": null,
      "outputs": [
        {
          "output_type": "stream",
          "name": "stdout",
          "text": [
            "Enter the number of integers:5\n",
            "0 0\n",
            "0 1\n",
            "0 2\n",
            "0 3\n",
            "0 4\n",
            "1 0\n",
            "1 1\n",
            "1 2\n",
            "1 3\n",
            "1 4\n",
            "2 0\n",
            "2 1\n",
            "2 2\n",
            "2 3\n",
            "2 4\n",
            "3 0\n",
            "3 1\n",
            "3 2\n",
            "3 3\n",
            "3 4\n",
            "4 0\n",
            "4 1\n",
            "4 2\n",
            "4 3\n",
            "4 4\n"
          ]
        }
      ]
    },
    {
      "cell_type": "markdown",
      "source": [
        "Write program to print pattern\n",
        "    "
      ],
      "metadata": {
        "id": "Rd4a-EJARE1g"
      }
    },
    {
      "cell_type": "code",
      "source": [
        "# Function to print full pyramid pattern\n",
        "def full_pyramid(n):\n",
        "    for i in range(1, n + 1):\n",
        "        # Print leading spaces\n",
        "        for j in range(n - i):\n",
        "            print(\" \", end=\"\")\n",
        "\n",
        "        # Print asterisks for the current row\n",
        "        for k in range(1, 2*i):\n",
        "            print(\"*\", end=\"\")\n",
        "        print()\n",
        "\n",
        "full_pyramid(5)\n"
      ],
      "metadata": {
        "colab": {
          "base_uri": "https://localhost:8080/"
        },
        "id": "ff-1sLI1VE4o",
        "outputId": "6c53624d-01b5-4c48-e977-f9b343e7dfe9"
      },
      "execution_count": null,
      "outputs": [
        {
          "output_type": "stream",
          "name": "stdout",
          "text": [
            "    *\n",
            "   ***\n",
            "  *****\n",
            " *******\n",
            "*********\n"
          ]
        }
      ]
    },
    {
      "cell_type": "markdown",
      "source": [
        "Write program to print pattern"
      ],
      "metadata": {
        "id": "exlmb4FiVH1G"
      }
    },
    {
      "cell_type": "code",
      "source": [
        "n=int(input(\"Enter the number of rows:\"))\n",
        "num=1\n",
        "for i in range(0,n):\n",
        " num=1\n",
        " for j in range(0,i+1):\n",
        "   print(num,end=\" \")\n",
        "   num=num+1\n",
        " print(\"\\r\")"
      ],
      "metadata": {
        "colab": {
          "base_uri": "https://localhost:8080/"
        },
        "id": "pPslp7cMVNvP",
        "outputId": "f81a7189-5ade-4da3-be3a-a3e60281952b"
      },
      "execution_count": null,
      "outputs": [
        {
          "output_type": "stream",
          "name": "stdout",
          "text": [
            "Enter the number of rows:5\n",
            "1 \n",
            "1 2 \n",
            "1 2 3 \n",
            "1 2 3 4 \n",
            "1 2 3 4 5 \n"
          ]
        }
      ]
    },
    {
      "cell_type": "markdown",
      "source": [
        "Write a program to sum the following series:\n",
        "1/3+3/5+5/7+7/9+9/11+11/13"
      ],
      "metadata": {
        "id": "ezkO1SooWSOT"
      }
    },
    {
      "cell_type": "code",
      "source": [
        "def sum_series(n):\n",
        "    total = 0\n",
        "    for i in range(1, n+1, 2):\n",
        "        total += i / (i+2)\n",
        "    return total\n",
        "\n",
        "print(sum_series(100)) # 6 because there are 6 terms in the series."
      ],
      "metadata": {
        "colab": {
          "base_uri": "https://localhost:8080/"
        },
        "id": "vTI0lzKKYdNM",
        "outputId": "bf95f7f3-2531-443d-86a6-fcf06c092e56"
      },
      "execution_count": null,
      "outputs": [
        {
          "output_type": "stream",
          "name": "stdout",
          "text": [
            "46.10464832285218\n"
          ]
        }
      ]
    },
    {
      "cell_type": "markdown",
      "source": [
        "A positive integer is called a perfect number if it is equal to the sum of all of its positive divisors, excluding itself.For example, 6 is the first perfect number, because 6 = 3 + 2 + 1,the next is 28 = 14 + 7 + 4 + 2 + 1. There are four perfect numbers that are less than 10,000. Write a program to find\n",
        "these four numbers."
      ],
      "metadata": {
        "id": "SBNOmDkVY7VW"
      }
    },
    {
      "cell_type": "code",
      "source": [
        "def is_perfect(n):\n",
        "\n",
        "  sum_divisors = 0\n",
        "  for i in range(1, n):\n",
        "    if n % i == 0:\n",
        "      sum_divisors += i\n",
        "  return sum_divisors == n\n",
        "\n",
        "count = 0\n",
        "for i in range(2, 10001):\n",
        "  if is_perfect(i):\n",
        "    print(i)\n",
        "    count += 1\n",
        "    if count == 4:\n",
        "      break"
      ],
      "metadata": {
        "colab": {
          "base_uri": "https://localhost:8080/"
        },
        "id": "SMbWolctafBo",
        "outputId": "650f5f53-f18b-4ee2-fbe2-b48444d9e413"
      },
      "execution_count": null,
      "outputs": [
        {
          "output_type": "stream",
          "name": "stdout",
          "text": [
            "6\n",
            "28\n",
            "496\n",
            "8128\n"
          ]
        }
      ]
    },
    {
      "cell_type": "markdown",
      "source": [
        "Write a program to perform the below operations on the\n",
        "list:"
      ],
      "metadata": {
        "id": "RVE7uds70wKY"
      }
    },
    {
      "cell_type": "code",
      "source": [
        "list_1=[1,2,3,4,5,6,70,8,90,10]\n",
        "list_2=[11,12,13,14,15,16,17,18,19,20]\n",
        "\n",
        "#Creating a list\n",
        "print(type(list_1))\n",
        "print(type(list_2))\n",
        "\n",
        "#Indexing of the list\n",
        "print(list_1[5])\n",
        "print(list_2[7])\n",
        "\n",
        "#Slicing of the list\n",
        "print(list_1[3:-5])\n",
        "print(list_2[-4:-1])\n",
        "\n",
        "#Adding elements to the list\n",
        "list_1.append(11)\n",
        "list_2.append(21)\n",
        "print(list_1)\n",
        "print(list_2)\n",
        "\n",
        "#Removing elements from the list\n",
        "list_1.remove(1)\n",
        "list_2.remove(18)\n",
        "print(list_1)\n",
        "print(list_2)\n",
        "\n",
        "#Get the number of elements in the list\n",
        "print(len(list_1))\n",
        "print(len(list_2))\n",
        "\n",
        "#Access elements of the list using the index\n",
        "print(list_1[5])\n",
        "print(list_2[9])\n",
        "\n",
        "#Sort the list\n",
        "list_1.sort()\n",
        "list_2.sort()\n",
        "print(list_1)\n",
        "print(list_2)\n",
        "\n",
        "#Reverse a list\n",
        "list_1.reverse()\n",
        "list_2.reverse()\n",
        "print(list_1)\n",
        "print(list_2)\n"
      ],
      "metadata": {
        "colab": {
          "base_uri": "https://localhost:8080/"
        },
        "id": "qlgrMx1n0zUa",
        "outputId": "476af563-8912-4888-f23e-4c055982c51e"
      },
      "execution_count": null,
      "outputs": [
        {
          "output_type": "stream",
          "name": "stdout",
          "text": [
            "<class 'list'>\n",
            "<class 'list'>\n",
            "6\n",
            "18\n",
            "[4, 5]\n",
            "[17, 18, 19]\n",
            "[1, 2, 3, 4, 5, 6, 70, 8, 90, 10, 11]\n",
            "[11, 12, 13, 14, 15, 16, 17, 18, 19, 20, 21]\n",
            "[2, 3, 4, 5, 6, 70, 8, 90, 10, 11]\n",
            "[11, 12, 13, 14, 15, 16, 17, 19, 20, 21]\n",
            "10\n",
            "10\n",
            "70\n",
            "21\n",
            "[2, 3, 4, 5, 6, 8, 10, 11, 70, 90]\n",
            "[11, 12, 13, 14, 15, 16, 17, 19, 20, 21]\n",
            "[90, 70, 11, 10, 8, 6, 5, 4, 3, 2]\n",
            "[21, 20, 19, 17, 16, 15, 14, 13, 12, 11]\n"
          ]
        }
      ]
    },
    {
      "cell_type": "markdown",
      "source": [
        "Write a program to read n numbers from a user and print:"
      ],
      "metadata": {
        "id": "2JJ7Mc_66Ori"
      }
    },
    {
      "cell_type": "code",
      "source": [
        "#Number of positive numbers\n",
        "num=int(input(\"Enter the number of elements:\"))\n",
        "count=0\n",
        "for i in range(num):\n",
        "  n=int(input(\"Enter the number:\"))\n",
        "  if(n>0):\n",
        "    count=count+1\n",
        "print(\"The number of positive numbers is:\",count)\n",
        "\n",
        "#Number of negative numbers\n",
        "num=int(input(\"Enter the number of elements:\"))\n",
        "count=0\n",
        "for i in range(num):\n",
        "  n=int(input(\"Enter the number:\"))\n",
        "  if(n<0):\n",
        "    count=count+1\n",
        "print(\"The number of negative numbers is:\",count)\n",
        "\n",
        "#Number of zero numbers\n",
        "num=int(input(\"Enter the number of elements:\"))\n",
        "count=0\n",
        "for i in range(num):\n",
        "  n=int(input(\"Enter the number:\"))\n",
        "  if(n==0):\n",
        "    count=count+1\n",
        "print(\"The number of zero numbers is:\",count)\n",
        "\n"
      ],
      "metadata": {
        "colab": {
          "base_uri": "https://localhost:8080/"
        },
        "id": "kjMwugQb64Fl",
        "outputId": "0eb11ea2-7054-48d8-a116-9609a257a6e7"
      },
      "execution_count": null,
      "outputs": [
        {
          "output_type": "stream",
          "name": "stdout",
          "text": [
            "Enter the number of elements:3\n",
            "Enter the number:56\n",
            "Enter the number:67\n",
            "Enter the number:67\n",
            "The number of positive numbers is: 3\n",
            "Enter the number of elements:4\n",
            "Enter the number:-9\n",
            "Enter the number:-8\n",
            "Enter the number:-7\n",
            "Enter the number:8\n",
            "The number of negative numbers is: 3\n",
            "Enter the number of elements:5\n",
            "Enter the number:90\n",
            "Enter the number:09\n",
            "Enter the number:78\n",
            "Enter the number:0\n",
            "Enter the number:76\n",
            "1\n"
          ]
        }
      ]
    },
    {
      "cell_type": "code",
      "source": [
        "n=5\n",
        "for i in range(0,n):\n",
        "  for j in range(0,i+1):\n",
        "    print(\"*\",end=\" \")\n",
        "  print(\"\\n\")"
      ],
      "metadata": {
        "colab": {
          "base_uri": "https://localhost:8080/"
        },
        "id": "aVwqLwFjvQEv",
        "outputId": "cf30f885-b5ca-4e3b-d908-fc2d60e501ef"
      },
      "execution_count": 2,
      "outputs": [
        {
          "output_type": "stream",
          "name": "stdout",
          "text": [
            "* \n",
            "\n",
            "* * \n",
            "\n",
            "* * * \n",
            "\n",
            "* * * * \n",
            "\n",
            "* * * * * \n",
            "\n"
          ]
        }
      ]
    },
    {
      "cell_type": "code",
      "source": [
        "n=5\n",
        "num=1\n",
        "for i in range(0,n):\n",
        "  num=1\n",
        "  for j in range(0,i+1):\n",
        "    print(num,end=\" \")\n",
        "    num=num+1\n",
        "  print(\"\\n\")"
      ],
      "metadata": {
        "colab": {
          "base_uri": "https://localhost:8080/"
        },
        "id": "lUyFW4RbwrIC",
        "outputId": "dcec0f1e-9766-409c-88be-ff1656d76eaa"
      },
      "execution_count": 6,
      "outputs": [
        {
          "output_type": "stream",
          "name": "stdout",
          "text": [
            "1 \n",
            "\n",
            "1 2 \n",
            "\n",
            "1 2 3 \n",
            "\n",
            "1 2 3 4 \n",
            "\n",
            "1 2 3 4 5 \n",
            "\n"
          ]
        }
      ]
    }
  ]
}